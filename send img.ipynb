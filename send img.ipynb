{
 "cells": [
  {
   "cell_type": "code",
   "execution_count": 1,
   "id": "6717c244",
   "metadata": {},
   "outputs": [
    {
     "name": "stdout",
     "output_type": "stream",
     "text": [
      "[*] Connected to 127.0.0.1:9999\n"
     ]
    }
   ],
   "source": [
    "import socket\n",
    "import struct\n",
    "import io\n",
    "from PIL import Image\n",
    "\n",
    "def send_image(client_socket, image_path):\n",
    "    with open(image_path, \"rb\") as image_file:\n",
    "        img = Image.open(image_file)\n",
    "        img_data = io.BytesIO()\n",
    "        img.save(img_data, format='JPEG')\n",
    "    img_data = img_data.getvalue()\n",
    "    msg_size = len(img_data)\n",
    "    packed_msg_size = struct.pack(\"=I\", msg_size)\n",
    "    client_socket.sendall(packed_msg_size + img_data)\n",
    "\n",
    "def main():\n",
    "    host = \"127.0.0.1\"\n",
    "    port = 9999\n",
    "    image_path = \"black.jpg\"\n",
    "\n",
    "    client_socket = socket.socket(socket.AF_INET, socket.SOCK_STREAM)\n",
    "    client_socket.connect((host, port))\n",
    "    print(f\"[*] Connected to {host}:{port}\")\n",
    "\n",
    "    send_image(client_socket, image_path)\n",
    "    client_socket.close()\n",
    "\n",
    "if __name__ == \"__main__\":\n",
    "    main()\n"
   ]
  },
  {
   "cell_type": "code",
   "execution_count": null,
   "id": "ef046ae1",
   "metadata": {},
   "outputs": [
    {
     "name": "stdout",
     "output_type": "stream",
     "text": [
      "[*] Connected to 127.0.0.1:9999\n"
     ]
    }
   ],
   "source": [
    "import socket\n",
    "import struct\n",
    "import io\n",
    "from PIL import Image\n",
    "\n",
    "def send_image(client_socket, image_path):\n",
    "    with open(image_path, \"rb\") as image_file:\n",
    "        img = Image.open(image_file)\n",
    "        img_data = io.BytesIO()\n",
    "        img.save(img_data, format='JPEG')\n",
    "    img_data = img_data.getvalue()\n",
    "    msg_size = len(img_data)\n",
    "    packed_msg_size = struct.pack(\"=I\", msg_size)\n",
    "    client_socket.sendall(packed_msg_size + img_data)\n",
    "\n",
    "def receive_values(client_socket):\n",
    "    data = b''\n",
    "    payload_size = struct.calcsize(\"=I\")\n",
    "    while len(data) < payload_size:\n",
    "        data += client_socket.recv(4096)\n",
    "    packed_msg_size = data[:payload_size]\n",
    "    data = data[payload_size:]\n",
    "    msg_size = struct.unpack(\"=I\", packed_msg_size)[0]\n",
    "\n",
    "    while len(data) < msg_size:\n",
    "        data += client_socket.recv(4096)\n",
    "    received_data = data[:msg_size]\n",
    "    data = data[msg_size:]\n",
    "\n",
    "    received_data = received_data.decode()\n",
    "    return received_data\n",
    "\n",
    "def main():\n",
    "    host = \"127.0.0.1\"\n",
    "    port = 9999\n",
    "    image_path = \"whiteperson.jpg\"\n",
    "\n",
    "    client_socket = socket.socket(socket.AF_INET, socket.SOCK_STREAM)\n",
    "    client_socket.connect((host, port))\n",
    "    print(f\"[*] Connected to {host}:{port}\")\n",
    "\n",
    "    send_image(client_socket, image_path)\n",
    "    received_data = receive_values(client_socket)\n",
    "    print(\"Received data:\", received_data)\n",
    "    \n",
    "    client_socket.close()\n",
    "\n",
    "if __name__ == \"__main__\":\n",
    "    main()\n"
   ]
  },
  {
   "cell_type": "code",
   "execution_count": 17,
   "id": "2738f3da",
   "metadata": {},
   "outputs": [
    {
     "name": "stdout",
     "output_type": "stream",
     "text": [
      "[*] Connected to 127.0.0.1:9999\n",
      "eye color=darkslategray, skin color=mediumpurple, hair color=dimgray\n"
     ]
    }
   ],
   "source": [
    "import socket\n",
    "import struct\n",
    "import io\n",
    "from PIL import Image\n",
    "\n",
    "def send_image(client_socket, image_path):\n",
    "    with open(image_path, \"rb\") as image_file:\n",
    "        img = Image.open(image_file)\n",
    "        img_data = io.BytesIO()\n",
    "        img.save(img_data, format='JPEG')\n",
    "    img_data = img_data.getvalue()\n",
    "    msg_size = len(img_data)\n",
    "    packed_msg_size = struct.pack(\"=I\", msg_size)\n",
    "    client_socket.sendall(packed_msg_size + img_data)\n",
    "\n",
    "def receive_colors(client_socket):\n",
    "    data = client_socket.recv(1024)\n",
    "    colors = data.decode()\n",
    "    return colors\n",
    "\n",
    "def main():\n",
    "    host = \"127.0.0.1\"\n",
    "    port = 9999\n",
    "    image_path = \"shah.jpg\"\n",
    "\n",
    "    client_socket = socket.socket(socket.AF_INET, socket.SOCK_STREAM)\n",
    "    client_socket.connect((host, port))\n",
    "    print(f\"[*] Connected to {host}:{port}\")\n",
    "\n",
    "    send_image(client_socket, image_path)\n",
    "    colors = receive_colors(client_socket)\n",
    "    print(colors)\n",
    "    client_socket.close()\n",
    "\n",
    "if __name__ == \"__main__\":\n",
    "    main()\n"
   ]
  },
  {
   "cell_type": "code",
   "execution_count": null,
   "id": "1cfe7165",
   "metadata": {},
   "outputs": [],
   "source": []
  }
 ],
 "metadata": {
  "kernelspec": {
   "display_name": "Python 3 (ipykernel)",
   "language": "python",
   "name": "python3"
  },
  "language_info": {
   "codemirror_mode": {
    "name": "ipython",
    "version": 3
   },
   "file_extension": ".py",
   "mimetype": "text/x-python",
   "name": "python",
   "nbconvert_exporter": "python",
   "pygments_lexer": "ipython3",
   "version": "3.9.13"
  }
 },
 "nbformat": 4,
 "nbformat_minor": 5
}
