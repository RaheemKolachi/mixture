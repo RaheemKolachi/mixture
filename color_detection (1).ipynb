{
  "nbformat": 4,
  "nbformat_minor": 0,
  "metadata": {
    "colab": {
      "provenance": [],
      "machine_shape": "hm",
      "gpuType": "A100"
    },
    "kernelspec": {
      "name": "python3",
      "display_name": "Python 3"
    },
    "language_info": {
      "name": "python"
    },
    "accelerator": "GPU",
    "gpuClass": "standard"
  },
  "cells": [
    {
      "cell_type": "code",
      "execution_count": null,
      "metadata": {
        "id": "dkSsDvt0QNiW"
      },
      "outputs": [],
      "source": []
    },
    {
      "cell_type": "code",
      "source": [
        "import numpy as np\n",
        "import tensorflow as tf\n",
        "from tensorflow.keras.preprocessing.image import ImageDataGenerator\n",
        "from tensorflow.keras.layers import Input, Conv2D, MaxPooling2D, Flatten, Dense\n",
        "from tensorflow.keras.models import Model\n",
        "from tensorflow.keras.preprocessing.image import load_img, img_to_array\n",
        "\n",
        "import numpy as np\n",
        "\n",
        "\n",
        "# Model definition\n",
        "def create_model():\n",
        "    input_hair = Input(shape=(64, 64, 3))\n",
        "    input_skin = Input(shape=(64, 64, 3))\n",
        "\n",
        "    x = Conv2D(32, (3, 3), activation='relu')(input_hair)\n",
        "    x = MaxPooling2D((2, 2))(x)\n",
        "    x = Conv2D(64, (3, 3), activation='relu')(x)\n",
        "    x = MaxPooling2D((2, 2))(x)\n",
        "    x = Flatten()(x)\n",
        "    out_hair = Dense(4, activation='softmax')(x)\n",
        "\n",
        "    y = Conv2D(32, (3, 3), activation='relu')(input_skin)\n",
        "    y = MaxPooling2D((2, 2))(y)\n",
        "    y = Conv2D(64, (3, 3), activation='relu')(y)\n",
        "    y = MaxPooling2D((2, 2))(y)\n",
        "    y = Flatten()(y)\n",
        "    out_skin = Dense(3, activation='softmax')(y)\n",
        "\n",
        "    model = Model(inputs=[input_hair, input_skin], outputs=[out_hair, out_skin])\n",
        "\n",
        "    model.compile(optimizer='adam', \n",
        "                  loss=['sparse_categorical_crossentropy', 'sparse_categorical_crossentropy'], \n",
        "                  metrics=['accuracy'])\n",
        "\n",
        "    return model\n",
        "\n",
        "# Data loading\n",
        "def load_data(hair_dir, skin_dir):\n",
        "    datagen = ImageDataGenerator(rescale=1./255, validation_split=0.2)\n",
        "\n",
        "    train_hair_generator = datagen.flow_from_directory(\n",
        "        hair_dir,\n",
        "        target_size=(64, 64),\n",
        "        batch_size=32,\n",
        "        class_mode='binary',\n",
        "        subset='training')\n",
        "\n",
        "    validation_hair_generator = datagen.flow_from_directory(\n",
        "        hair_dir,\n",
        "        target_size=(64, 64),\n",
        "        batch_size=32,\n",
        "        class_mode='binary',\n",
        "        subset='validation')\n",
        "\n",
        "    train_skin_generator = datagen.flow_from_directory(\n",
        "        skin_dir,\n",
        "        target_size=(64, 64),\n",
        "        batch_size=32,\n",
        "        class_mode='binary',\n",
        "        subset='training')\n",
        "\n",
        "    validation_skin_generator = datagen.flow_from_directory(\n",
        "        skin_dir,\n",
        "        target_size=(64, 64),\n",
        "        batch_size=32,\n",
        "        class_mode='binary',\n",
        "        subset='validation')\n",
        "\n",
        "    return train_hair_generator, validation_hair_generator, train_skin_generator, validation_skin_generator\n",
        "\n",
        "# Model training\n",
        "# Model training\n",
        "def train_model(model, train_hair_generator, train_skin_generator, validation_hair_generator, validation_skin_generator):\n",
        "    def multi_generator(generator1, generator2):\n",
        "        while True:\n",
        "            x1, y1 = next(generator1)\n",
        "            x2, y2 = next(generator2)\n",
        "            yield [x1, x2], [y1, y2]\n",
        "\n",
        "    train_multi_generator = multi_generator(train_hair_generator, train_skin_generator)\n",
        "    validation_multi_generator = multi_generator(validation_hair_generator, validation_skin_generator)\n",
        "\n",
        "    model.fit(train_multi_generator,\n",
        "              steps_per_epoch=len(train_hair_generator),\n",
        "              validation_data=validation_multi_generator,\n",
        "              validation_steps=len(validation_hair_generator),\n",
        "              epochs=20,verbose=2)\n",
        "\n",
        "# Paths to image directories\n",
        "hair_dir = '/content/drive/MyDrive/Fiverr work/color_detection/colordataset/hairs'\n",
        "skin_dir = '/content/drive/MyDrive/Fiverr work/color_detection/colordataset/train'\n",
        "\n",
        "# Load data\n",
        "train_hair_generator, validation_hair_generator, train_skin_generator, validation_skin_generator = load_data(hair_dir, skin_dir)\n",
        "\n",
        "# Create and train model\n",
        "model = create_model()\n",
        "train_model(model, train_hair_generator, train_skin_generator, validation_hair_generator, validation_skin_generator)\n"
      ],
      "metadata": {
        "id": "wS7ztBOaRWOB",
        "colab": {
          "base_uri": "https://localhost:8080/"
        },
        "outputId": "e4d7419c-86e7-45a4-f69b-daccbee892cb"
      },
      "execution_count": 8,
      "outputs": [
        {
          "output_type": "stream",
          "name": "stdout",
          "text": [
            "Found 195 images belonging to 4 classes.\n",
            "Found 46 images belonging to 4 classes.\n",
            "Found 201 images belonging to 3 classes.\n",
            "Found 49 images belonging to 3 classes.\n",
            "Epoch 1/20\n",
            "7/7 - 115s - loss: 2.3822 - dense_loss: 1.3823 - dense_1_loss: 0.9999 - dense_accuracy: 0.3692 - dense_1_accuracy: 0.4577 - val_loss: 2.2058 - val_dense_loss: 1.2633 - val_dense_1_loss: 0.9425 - val_dense_accuracy: 0.4130 - val_dense_1_accuracy: 0.5102 - 115s/epoch - 16s/step\n",
            "Epoch 2/20\n",
            "7/7 - 3s - loss: 2.1558 - dense_loss: 1.2550 - dense_1_loss: 0.9009 - dense_accuracy: 0.3641 - dense_1_accuracy: 0.5174 - val_loss: 2.0419 - val_dense_loss: 1.1021 - val_dense_1_loss: 0.9398 - val_dense_accuracy: 0.5435 - val_dense_1_accuracy: 0.5714 - 3s/epoch - 500ms/step\n",
            "Epoch 3/20\n",
            "7/7 - 4s - loss: 1.8815 - dense_loss: 1.0265 - dense_1_loss: 0.8550 - dense_accuracy: 0.5590 - dense_1_accuracy: 0.6020 - val_loss: 1.7096 - val_dense_loss: 0.8861 - val_dense_1_loss: 0.8236 - val_dense_accuracy: 0.6522 - val_dense_1_accuracy: 0.5714 - 4s/epoch - 522ms/step\n",
            "Epoch 4/20\n",
            "7/7 - 3s - loss: 1.5539 - dense_loss: 0.8323 - dense_1_loss: 0.7216 - dense_accuracy: 0.6308 - dense_1_accuracy: 0.7164 - val_loss: 1.5894 - val_dense_loss: 0.7812 - val_dense_1_loss: 0.8082 - val_dense_accuracy: 0.6522 - val_dense_1_accuracy: 0.5306 - 3s/epoch - 492ms/step\n",
            "Epoch 5/20\n",
            "7/7 - 4s - loss: 1.2999 - dense_loss: 0.7052 - dense_1_loss: 0.5947 - dense_accuracy: 0.7128 - dense_1_accuracy: 0.7463 - val_loss: 1.7805 - val_dense_loss: 0.9280 - val_dense_1_loss: 0.8525 - val_dense_accuracy: 0.6739 - val_dense_1_accuracy: 0.5714 - 4s/epoch - 551ms/step\n",
            "Epoch 6/20\n",
            "7/7 - 4s - loss: 1.3347 - dense_loss: 0.7631 - dense_1_loss: 0.5716 - dense_accuracy: 0.7128 - dense_1_accuracy: 0.7562 - val_loss: 1.5789 - val_dense_loss: 0.8449 - val_dense_1_loss: 0.7340 - val_dense_accuracy: 0.7174 - val_dense_1_accuracy: 0.6735 - 4s/epoch - 513ms/step\n",
            "Epoch 7/20\n",
            "7/7 - 4s - loss: 1.1695 - dense_loss: 0.7131 - dense_1_loss: 0.4565 - dense_accuracy: 0.7333 - dense_1_accuracy: 0.8806 - val_loss: 1.4070 - val_dense_loss: 0.7024 - val_dense_1_loss: 0.7045 - val_dense_accuracy: 0.7609 - val_dense_1_accuracy: 0.7347 - 4s/epoch - 530ms/step\n",
            "Epoch 8/20\n",
            "7/7 - 3s - loss: 1.1041 - dense_loss: 0.6323 - dense_1_loss: 0.4719 - dense_accuracy: 0.7641 - dense_1_accuracy: 0.8408 - val_loss: 1.7536 - val_dense_loss: 0.7995 - val_dense_1_loss: 0.9541 - val_dense_accuracy: 0.7174 - val_dense_1_accuracy: 0.5102 - 3s/epoch - 498ms/step\n",
            "Epoch 9/20\n",
            "7/7 - 4s - loss: 0.9653 - dense_loss: 0.5686 - dense_1_loss: 0.3967 - dense_accuracy: 0.8051 - dense_1_accuracy: 0.8706 - val_loss: 1.6111 - val_dense_loss: 0.7320 - val_dense_1_loss: 0.8791 - val_dense_accuracy: 0.6957 - val_dense_1_accuracy: 0.6735 - 4s/epoch - 532ms/step\n",
            "Epoch 10/20\n",
            "7/7 - 4s - loss: 0.9290 - dense_loss: 0.5247 - dense_1_loss: 0.4043 - dense_accuracy: 0.7949 - dense_1_accuracy: 0.8657 - val_loss: 1.3307 - val_dense_loss: 0.6133 - val_dense_1_loss: 0.7174 - val_dense_accuracy: 0.7609 - val_dense_1_accuracy: 0.7347 - 4s/epoch - 517ms/step\n",
            "Epoch 11/20\n",
            "7/7 - 4s - loss: 0.8281 - dense_loss: 0.4385 - dense_1_loss: 0.3896 - dense_accuracy: 0.8513 - dense_1_accuracy: 0.8706 - val_loss: 1.6196 - val_dense_loss: 0.6959 - val_dense_1_loss: 0.9236 - val_dense_accuracy: 0.7391 - val_dense_1_accuracy: 0.6327 - 4s/epoch - 523ms/step\n",
            "Epoch 12/20\n",
            "7/7 - 4s - loss: 0.7563 - dense_loss: 0.4027 - dense_1_loss: 0.3536 - dense_accuracy: 0.8718 - dense_1_accuracy: 0.8557 - val_loss: 1.5951 - val_dense_loss: 0.7535 - val_dense_1_loss: 0.8415 - val_dense_accuracy: 0.6957 - val_dense_1_accuracy: 0.6531 - 4s/epoch - 507ms/step\n",
            "Epoch 13/20\n",
            "7/7 - 4s - loss: 0.7431 - dense_loss: 0.4365 - dense_1_loss: 0.3066 - dense_accuracy: 0.8256 - dense_1_accuracy: 0.8657 - val_loss: 1.8658 - val_dense_loss: 0.8499 - val_dense_1_loss: 1.0158 - val_dense_accuracy: 0.6739 - val_dense_1_accuracy: 0.5714 - 4s/epoch - 538ms/step\n",
            "Epoch 14/20\n",
            "7/7 - 4s - loss: 0.7236 - dense_loss: 0.4143 - dense_1_loss: 0.3092 - dense_accuracy: 0.8564 - dense_1_accuracy: 0.8756 - val_loss: 1.8167 - val_dense_loss: 0.7882 - val_dense_1_loss: 1.0286 - val_dense_accuracy: 0.7174 - val_dense_1_accuracy: 0.5510 - 4s/epoch - 507ms/step\n",
            "Epoch 15/20\n",
            "7/7 - 4s - loss: 0.5682 - dense_loss: 0.3287 - dense_1_loss: 0.2395 - dense_accuracy: 0.8872 - dense_1_accuracy: 0.9254 - val_loss: 1.9155 - val_dense_loss: 0.7451 - val_dense_1_loss: 1.1704 - val_dense_accuracy: 0.7609 - val_dense_1_accuracy: 0.4898 - 4s/epoch - 536ms/step\n",
            "Epoch 16/20\n",
            "7/7 - 4s - loss: 0.5653 - dense_loss: 0.3255 - dense_1_loss: 0.2398 - dense_accuracy: 0.8872 - dense_1_accuracy: 0.9154 - val_loss: 1.8987 - val_dense_loss: 0.9219 - val_dense_1_loss: 0.9768 - val_dense_accuracy: 0.8043 - val_dense_1_accuracy: 0.5714 - 4s/epoch - 511ms/step\n",
            "Epoch 17/20\n",
            "7/7 - 4s - loss: 0.5695 - dense_loss: 0.3303 - dense_1_loss: 0.2392 - dense_accuracy: 0.8718 - dense_1_accuracy: 0.9353 - val_loss: 1.8075 - val_dense_loss: 0.7899 - val_dense_1_loss: 1.0176 - val_dense_accuracy: 0.7826 - val_dense_1_accuracy: 0.6531 - 4s/epoch - 552ms/step\n",
            "Epoch 18/20\n",
            "7/7 - 3s - loss: 0.7329 - dense_loss: 0.5101 - dense_1_loss: 0.2228 - dense_accuracy: 0.7846 - dense_1_accuracy: 0.9104 - val_loss: 1.8777 - val_dense_loss: 0.8542 - val_dense_1_loss: 1.0235 - val_dense_accuracy: 0.7826 - val_dense_1_accuracy: 0.5918 - 3s/epoch - 480ms/step\n",
            "Epoch 19/20\n",
            "7/7 - 4s - loss: 0.5918 - dense_loss: 0.4107 - dense_1_loss: 0.1811 - dense_accuracy: 0.8410 - dense_1_accuracy: 0.9353 - val_loss: 1.7702 - val_dense_loss: 0.7388 - val_dense_1_loss: 1.0314 - val_dense_accuracy: 0.7826 - val_dense_1_accuracy: 0.5714 - 4s/epoch - 555ms/step\n",
            "Epoch 20/20\n",
            "7/7 - 3s - loss: 0.4406 - dense_loss: 0.2940 - dense_1_loss: 0.1466 - dense_accuracy: 0.8872 - dense_1_accuracy: 0.9701 - val_loss: 1.6684 - val_dense_loss: 0.8202 - val_dense_1_loss: 0.8482 - val_dense_accuracy: 0.6739 - val_dense_1_accuracy: 0.6531 - 3s/epoch - 483ms/step\n"
          ]
        }
      ]
    },
    {
      "cell_type": "code",
      "source": [
        "\n",
        "# Load and preprocess the images\n",
        "def preprocess_image(image_path):\n",
        "    image = load_img(image_path, target_size=(64, 64))  # load and resize the image\n",
        "    image = img_to_array(image)  # convert the image to a numpy array\n",
        "    image = image / 255.0  # rescale the image\n",
        "    image = np.expand_dims(image, axis=0)  # add an extra dimension for the batch size\n",
        "    return image\n",
        "\n",
        "hair_image_path = '/content/drive/MyDrive/Fiverr work/color_detection/colordataset/hairs/black hairs/data111.jpg'\n",
        "skin_image_path = '/content/drive/MyDrive/Fiverr work/color_detection/colordataset/train/white/data127.jpg'\n",
        "\n",
        "hair_image = preprocess_image(hair_image_path)\n",
        "skin_image = preprocess_image(skin_image_path)\n",
        "\n",
        "# Predict with the model\n",
        "hair_prediction, skin_prediction = model.predict([hair_image, skin_image])\n",
        "\n",
        "# Get the class names\n",
        "hair_class_names = ['bald', 'black hairs',\"red hair\",\"white hairs\"]\n",
        "skin_class_names = [\"black skin\",\"light brown\", \"white skin\"]\n",
        "\n",
        "# Get the predicted classes\n",
        "hair_predicted_class = hair_class_names[np.argmax(hair_prediction)]\n",
        "skin_predicted_class = skin_class_names[np.argmax(skin_prediction)]\n",
        "\n",
        "print(\"Hair prediction: \", hair_predicted_class)\n",
        "print(\"Skin prediction: \", skin_predicted_class)\n"
      ],
      "metadata": {
        "colab": {
          "base_uri": "https://localhost:8080/"
        },
        "id": "-PCLbtboYYOj",
        "outputId": "5d8098e6-a716-4a66-8da8-483268bdfe15"
      },
      "execution_count": 11,
      "outputs": [
        {
          "output_type": "stream",
          "name": "stdout",
          "text": [
            "1/1 [==============================] - 0s 24ms/step\n",
            "Hair prediction:  black hairs\n",
            "Skin prediction:  white\n"
          ]
        }
      ]
    },
    {
      "cell_type": "code",
      "source": [
        "import tensorflowjs as tfjs\n",
        "\n",
        "def save_model_tfjs(model, path):\n",
        "    tfjs.converters.save_keras_model(model, path)\n",
        "\n",
        "# Save the model\n",
        "save_model_tfjs(model, '/content/drive/MyDrive/Fiverr work/color_detection/js_based_model')\n"
      ],
      "metadata": {
        "id": "CcUPyQDqX0DW"
      },
      "execution_count": 15,
      "outputs": []
    },
    {
      "cell_type": "code",
      "source": [
        "!pip install tensorflowjs"
      ],
      "metadata": {
        "colab": {
          "base_uri": "https://localhost:8080/",
          "height": 1000
        },
        "id": "G3Sl0PZglvyk",
        "outputId": "37fa1332-a1c1-472e-c852-cd705046e3e2"
      },
      "execution_count": 13,
      "outputs": [
        {
          "output_type": "stream",
          "name": "stdout",
          "text": [
            "Looking in indexes: https://pypi.org/simple, https://us-python.pkg.dev/colab-wheels/public/simple/\n",
            "Collecting tensorflowjs\n",
            "  Downloading tensorflowjs-4.5.0-py3-none-any.whl (85 kB)\n",
            "\u001b[2K     \u001b[90m━━━━━━━━━━━━━━━━━━━━━━━━━━━━━━━━━━━━━━━━\u001b[0m \u001b[32m85.1/85.1 kB\u001b[0m \u001b[31m6.8 MB/s\u001b[0m eta \u001b[36m0:00:00\u001b[0m\n",
            "\u001b[?25hCollecting flax<0.6.3,>=0.6.2 (from tensorflowjs)\n",
            "  Downloading flax-0.6.2-py3-none-any.whl (189 kB)\n",
            "\u001b[2K     \u001b[90m━━━━━━━━━━━━━━━━━━━━━━━━━━━━━━━━━━━━━━\u001b[0m \u001b[32m189.9/189.9 kB\u001b[0m \u001b[31m20.4 MB/s\u001b[0m eta \u001b[36m0:00:00\u001b[0m\n",
            "\u001b[?25hRequirement already satisfied: importlib_resources>=5.9.0 in /usr/local/lib/python3.10/dist-packages (from tensorflowjs) (5.12.0)\n",
            "Requirement already satisfied: jax>=0.3.16 in /usr/local/lib/python3.10/dist-packages (from tensorflowjs) (0.4.8)\n",
            "Requirement already satisfied: tensorflow<3,>=2.12.0 in /usr/local/lib/python3.10/dist-packages (from tensorflowjs) (2.12.0)\n",
            "Collecting tensorflow-decision-forests>=1.3.0 (from tensorflowjs)\n",
            "  Downloading tensorflow_decision_forests-1.3.0-cp310-cp310-manylinux_2_17_x86_64.manylinux2014_x86_64.whl (16.4 MB)\n",
            "\u001b[2K     \u001b[90m━━━━━━━━━━━━━━━━━━━━━━━━━━━━━━━━━━━━━━━━\u001b[0m \u001b[32m16.4/16.4 MB\u001b[0m \u001b[31m83.4 MB/s\u001b[0m eta \u001b[36m0:00:00\u001b[0m\n",
            "\u001b[?25hRequirement already satisfied: six<2,>=1.12.0 in /usr/local/lib/python3.10/dist-packages (from tensorflowjs) (1.16.0)\n",
            "Requirement already satisfied: tensorflow-hub>=0.13.0 in /usr/local/lib/python3.10/dist-packages (from tensorflowjs) (0.13.0)\n",
            "Collecting packaging~=20.9 (from tensorflowjs)\n",
            "  Downloading packaging-20.9-py2.py3-none-any.whl (40 kB)\n",
            "\u001b[2K     \u001b[90m━━━━━━━━━━━━━━━━━━━━━━━━━━━━━━━━━━━━━━━━\u001b[0m \u001b[32m40.9/40.9 kB\u001b[0m \u001b[31m5.8 MB/s\u001b[0m eta \u001b[36m0:00:00\u001b[0m\n",
            "\u001b[?25hRequirement already satisfied: numpy>=1.12 in /usr/local/lib/python3.10/dist-packages (from flax<0.6.3,>=0.6.2->tensorflowjs) (1.22.4)\n",
            "Requirement already satisfied: matplotlib in /usr/local/lib/python3.10/dist-packages (from flax<0.6.3,>=0.6.2->tensorflowjs) (3.7.1)\n",
            "Requirement already satisfied: msgpack in /usr/local/lib/python3.10/dist-packages (from flax<0.6.3,>=0.6.2->tensorflowjs) (1.0.5)\n",
            "Requirement already satisfied: optax in /usr/local/lib/python3.10/dist-packages (from flax<0.6.3,>=0.6.2->tensorflowjs) (0.1.5)\n",
            "Requirement already satisfied: tensorstore in /usr/local/lib/python3.10/dist-packages (from flax<0.6.3,>=0.6.2->tensorflowjs) (0.1.36)\n",
            "Requirement already satisfied: rich>=11.1 in /usr/local/lib/python3.10/dist-packages (from flax<0.6.3,>=0.6.2->tensorflowjs) (13.3.4)\n",
            "Requirement already satisfied: typing-extensions>=4.1.1 in /usr/local/lib/python3.10/dist-packages (from flax<0.6.3,>=0.6.2->tensorflowjs) (4.5.0)\n",
            "Requirement already satisfied: PyYAML>=5.4.1 in /usr/local/lib/python3.10/dist-packages (from flax<0.6.3,>=0.6.2->tensorflowjs) (6.0)\n",
            "Requirement already satisfied: ml-dtypes>=0.0.3 in /usr/local/lib/python3.10/dist-packages (from jax>=0.3.16->tensorflowjs) (0.1.0)\n",
            "Requirement already satisfied: opt-einsum in /usr/local/lib/python3.10/dist-packages (from jax>=0.3.16->tensorflowjs) (3.3.0)\n",
            "Requirement already satisfied: scipy>=1.7 in /usr/local/lib/python3.10/dist-packages (from jax>=0.3.16->tensorflowjs) (1.10.1)\n",
            "Requirement already satisfied: pyparsing>=2.0.2 in /usr/local/lib/python3.10/dist-packages (from packaging~=20.9->tensorflowjs) (3.0.9)\n",
            "Requirement already satisfied: absl-py>=1.0.0 in /usr/local/lib/python3.10/dist-packages (from tensorflow<3,>=2.12.0->tensorflowjs) (1.4.0)\n",
            "Requirement already satisfied: astunparse>=1.6.0 in /usr/local/lib/python3.10/dist-packages (from tensorflow<3,>=2.12.0->tensorflowjs) (1.6.3)\n",
            "Requirement already satisfied: flatbuffers>=2.0 in /usr/local/lib/python3.10/dist-packages (from tensorflow<3,>=2.12.0->tensorflowjs) (23.3.3)\n",
            "Requirement already satisfied: gast<=0.4.0,>=0.2.1 in /usr/local/lib/python3.10/dist-packages (from tensorflow<3,>=2.12.0->tensorflowjs) (0.4.0)\n",
            "Requirement already satisfied: google-pasta>=0.1.1 in /usr/local/lib/python3.10/dist-packages (from tensorflow<3,>=2.12.0->tensorflowjs) (0.2.0)\n",
            "Requirement already satisfied: grpcio<2.0,>=1.24.3 in /usr/local/lib/python3.10/dist-packages (from tensorflow<3,>=2.12.0->tensorflowjs) (1.54.0)\n",
            "Requirement already satisfied: h5py>=2.9.0 in /usr/local/lib/python3.10/dist-packages (from tensorflow<3,>=2.12.0->tensorflowjs) (3.8.0)\n",
            "Requirement already satisfied: keras<2.13,>=2.12.0 in /usr/local/lib/python3.10/dist-packages (from tensorflow<3,>=2.12.0->tensorflowjs) (2.12.0)\n",
            "Requirement already satisfied: libclang>=13.0.0 in /usr/local/lib/python3.10/dist-packages (from tensorflow<3,>=2.12.0->tensorflowjs) (16.0.0)\n",
            "Requirement already satisfied: protobuf!=4.21.0,!=4.21.1,!=4.21.2,!=4.21.3,!=4.21.4,!=4.21.5,<5.0.0dev,>=3.20.3 in /usr/local/lib/python3.10/dist-packages (from tensorflow<3,>=2.12.0->tensorflowjs) (3.20.3)\n",
            "Requirement already satisfied: setuptools in /usr/local/lib/python3.10/dist-packages (from tensorflow<3,>=2.12.0->tensorflowjs) (67.7.2)\n",
            "Requirement already satisfied: tensorboard<2.13,>=2.12 in /usr/local/lib/python3.10/dist-packages (from tensorflow<3,>=2.12.0->tensorflowjs) (2.12.2)\n",
            "Requirement already satisfied: tensorflow-estimator<2.13,>=2.12.0 in /usr/local/lib/python3.10/dist-packages (from tensorflow<3,>=2.12.0->tensorflowjs) (2.12.0)\n",
            "Requirement already satisfied: termcolor>=1.1.0 in /usr/local/lib/python3.10/dist-packages (from tensorflow<3,>=2.12.0->tensorflowjs) (2.3.0)\n",
            "Requirement already satisfied: wrapt<1.15,>=1.11.0 in /usr/local/lib/python3.10/dist-packages (from tensorflow<3,>=2.12.0->tensorflowjs) (1.14.1)\n",
            "Requirement already satisfied: tensorflow-io-gcs-filesystem>=0.23.1 in /usr/local/lib/python3.10/dist-packages (from tensorflow<3,>=2.12.0->tensorflowjs) (0.32.0)\n",
            "Requirement already satisfied: pandas in /usr/local/lib/python3.10/dist-packages (from tensorflow-decision-forests>=1.3.0->tensorflowjs) (1.5.3)\n",
            "Requirement already satisfied: wheel in /usr/local/lib/python3.10/dist-packages (from tensorflow-decision-forests>=1.3.0->tensorflowjs) (0.40.0)\n",
            "Collecting wurlitzer (from tensorflow-decision-forests>=1.3.0->tensorflowjs)\n",
            "  Downloading wurlitzer-3.0.3-py3-none-any.whl (7.3 kB)\n",
            "Requirement already satisfied: markdown-it-py<3.0.0,>=2.2.0 in /usr/local/lib/python3.10/dist-packages (from rich>=11.1->flax<0.6.3,>=0.6.2->tensorflowjs) (2.2.0)\n",
            "Requirement already satisfied: pygments<3.0.0,>=2.13.0 in /usr/local/lib/python3.10/dist-packages (from rich>=11.1->flax<0.6.3,>=0.6.2->tensorflowjs) (2.14.0)\n",
            "Requirement already satisfied: google-auth<3,>=1.6.3 in /usr/local/lib/python3.10/dist-packages (from tensorboard<2.13,>=2.12->tensorflow<3,>=2.12.0->tensorflowjs) (2.17.3)\n",
            "Requirement already satisfied: google-auth-oauthlib<1.1,>=0.5 in /usr/local/lib/python3.10/dist-packages (from tensorboard<2.13,>=2.12->tensorflow<3,>=2.12.0->tensorflowjs) (1.0.0)\n",
            "Requirement already satisfied: markdown>=2.6.8 in /usr/local/lib/python3.10/dist-packages (from tensorboard<2.13,>=2.12->tensorflow<3,>=2.12.0->tensorflowjs) (3.4.3)\n",
            "Requirement already satisfied: requests<3,>=2.21.0 in /usr/local/lib/python3.10/dist-packages (from tensorboard<2.13,>=2.12->tensorflow<3,>=2.12.0->tensorflowjs) (2.27.1)\n",
            "Requirement already satisfied: tensorboard-data-server<0.8.0,>=0.7.0 in /usr/local/lib/python3.10/dist-packages (from tensorboard<2.13,>=2.12->tensorflow<3,>=2.12.0->tensorflowjs) (0.7.0)\n",
            "Requirement already satisfied: tensorboard-plugin-wit>=1.6.0 in /usr/local/lib/python3.10/dist-packages (from tensorboard<2.13,>=2.12->tensorflow<3,>=2.12.0->tensorflowjs) (1.8.1)\n",
            "Requirement already satisfied: werkzeug>=1.0.1 in /usr/local/lib/python3.10/dist-packages (from tensorboard<2.13,>=2.12->tensorflow<3,>=2.12.0->tensorflowjs) (2.3.0)\n",
            "Requirement already satisfied: contourpy>=1.0.1 in /usr/local/lib/python3.10/dist-packages (from matplotlib->flax<0.6.3,>=0.6.2->tensorflowjs) (1.0.7)\n",
            "Requirement already satisfied: cycler>=0.10 in /usr/local/lib/python3.10/dist-packages (from matplotlib->flax<0.6.3,>=0.6.2->tensorflowjs) (0.11.0)\n",
            "Requirement already satisfied: fonttools>=4.22.0 in /usr/local/lib/python3.10/dist-packages (from matplotlib->flax<0.6.3,>=0.6.2->tensorflowjs) (4.39.3)\n",
            "Requirement already satisfied: kiwisolver>=1.0.1 in /usr/local/lib/python3.10/dist-packages (from matplotlib->flax<0.6.3,>=0.6.2->tensorflowjs) (1.4.4)\n",
            "Requirement already satisfied: pillow>=6.2.0 in /usr/local/lib/python3.10/dist-packages (from matplotlib->flax<0.6.3,>=0.6.2->tensorflowjs) (8.4.0)\n",
            "Requirement already satisfied: python-dateutil>=2.7 in /usr/local/lib/python3.10/dist-packages (from matplotlib->flax<0.6.3,>=0.6.2->tensorflowjs) (2.8.2)\n",
            "Requirement already satisfied: chex>=0.1.5 in /usr/local/lib/python3.10/dist-packages (from optax->flax<0.6.3,>=0.6.2->tensorflowjs) (0.1.7)\n",
            "Requirement already satisfied: jaxlib>=0.1.37 in /usr/local/lib/python3.10/dist-packages (from optax->flax<0.6.3,>=0.6.2->tensorflowjs) (0.4.7+cuda11.cudnn86)\n",
            "Requirement already satisfied: pytz>=2020.1 in /usr/local/lib/python3.10/dist-packages (from pandas->tensorflow-decision-forests>=1.3.0->tensorflowjs) (2022.7.1)\n",
            "Requirement already satisfied: dm-tree>=0.1.5 in /usr/local/lib/python3.10/dist-packages (from chex>=0.1.5->optax->flax<0.6.3,>=0.6.2->tensorflowjs) (0.1.8)\n",
            "Requirement already satisfied: toolz>=0.9.0 in /usr/local/lib/python3.10/dist-packages (from chex>=0.1.5->optax->flax<0.6.3,>=0.6.2->tensorflowjs) (0.12.0)\n",
            "Requirement already satisfied: cachetools<6.0,>=2.0.0 in /usr/local/lib/python3.10/dist-packages (from google-auth<3,>=1.6.3->tensorboard<2.13,>=2.12->tensorflow<3,>=2.12.0->tensorflowjs) (5.3.0)\n",
            "Requirement already satisfied: pyasn1-modules>=0.2.1 in /usr/local/lib/python3.10/dist-packages (from google-auth<3,>=1.6.3->tensorboard<2.13,>=2.12->tensorflow<3,>=2.12.0->tensorflowjs) (0.3.0)\n",
            "Requirement already satisfied: rsa<5,>=3.1.4 in /usr/local/lib/python3.10/dist-packages (from google-auth<3,>=1.6.3->tensorboard<2.13,>=2.12->tensorflow<3,>=2.12.0->tensorflowjs) (4.9)\n",
            "Requirement already satisfied: requests-oauthlib>=0.7.0 in /usr/local/lib/python3.10/dist-packages (from google-auth-oauthlib<1.1,>=0.5->tensorboard<2.13,>=2.12->tensorflow<3,>=2.12.0->tensorflowjs) (1.3.1)\n",
            "Requirement already satisfied: mdurl~=0.1 in /usr/local/lib/python3.10/dist-packages (from markdown-it-py<3.0.0,>=2.2.0->rich>=11.1->flax<0.6.3,>=0.6.2->tensorflowjs) (0.1.2)\n",
            "Requirement already satisfied: urllib3<1.27,>=1.21.1 in /usr/local/lib/python3.10/dist-packages (from requests<3,>=2.21.0->tensorboard<2.13,>=2.12->tensorflow<3,>=2.12.0->tensorflowjs) (1.26.15)\n",
            "Requirement already satisfied: certifi>=2017.4.17 in /usr/local/lib/python3.10/dist-packages (from requests<3,>=2.21.0->tensorboard<2.13,>=2.12->tensorflow<3,>=2.12.0->tensorflowjs) (2022.12.7)\n",
            "Requirement already satisfied: charset-normalizer~=2.0.0 in /usr/local/lib/python3.10/dist-packages (from requests<3,>=2.21.0->tensorboard<2.13,>=2.12->tensorflow<3,>=2.12.0->tensorflowjs) (2.0.12)\n",
            "Requirement already satisfied: idna<4,>=2.5 in /usr/local/lib/python3.10/dist-packages (from requests<3,>=2.21.0->tensorboard<2.13,>=2.12->tensorflow<3,>=2.12.0->tensorflowjs) (3.4)\n",
            "Requirement already satisfied: MarkupSafe>=2.1.1 in /usr/local/lib/python3.10/dist-packages (from werkzeug>=1.0.1->tensorboard<2.13,>=2.12->tensorflow<3,>=2.12.0->tensorflowjs) (2.1.2)\n",
            "Requirement already satisfied: pyasn1<0.6.0,>=0.4.6 in /usr/local/lib/python3.10/dist-packages (from pyasn1-modules>=0.2.1->google-auth<3,>=1.6.3->tensorboard<2.13,>=2.12->tensorflow<3,>=2.12.0->tensorflowjs) (0.5.0)\n",
            "Requirement already satisfied: oauthlib>=3.0.0 in /usr/local/lib/python3.10/dist-packages (from requests-oauthlib>=0.7.0->google-auth-oauthlib<1.1,>=0.5->tensorboard<2.13,>=2.12->tensorflow<3,>=2.12.0->tensorflowjs) (3.2.2)\n",
            "Installing collected packages: wurlitzer, packaging, flax, tensorflow-decision-forests, tensorflowjs\n",
            "  Attempting uninstall: packaging\n",
            "    Found existing installation: packaging 23.1\n",
            "    Uninstalling packaging-23.1:\n",
            "      Successfully uninstalled packaging-23.1\n",
            "  Attempting uninstall: flax\n",
            "    Found existing installation: flax 0.6.9\n",
            "    Uninstalling flax-0.6.9:\n",
            "      Successfully uninstalled flax-0.6.9\n",
            "\u001b[31mERROR: pip's dependency resolver does not currently take into account all the packages that are installed. This behaviour is the source of the following dependency conflicts.\n",
            "statsmodels 0.13.5 requires packaging>=21.3, but you have packaging 20.9 which is incompatible.\n",
            "xarray 2022.12.0 requires packaging>=21.3, but you have packaging 20.9 which is incompatible.\u001b[0m\u001b[31m\n",
            "\u001b[0mSuccessfully installed flax-0.6.2 packaging-20.9 tensorflow-decision-forests-1.3.0 tensorflowjs-4.5.0 wurlitzer-3.0.3\n"
          ]
        },
        {
          "output_type": "display_data",
          "data": {
            "application/vnd.colab-display-data+json": {
              "pip_warning": {
                "packages": [
                  "packaging"
                ]
              }
            }
          },
          "metadata": {}
        }
      ]
    },
    {
      "cell_type": "code",
      "source": [
        "import tensorflow as tf\n",
        "from tensorflow import keras\n",
        "import tensorflowjs as tfjs\n",
        "\n",
        "tfjs.converters.save_keras_model(model, 'js_based_model')\n"
      ],
      "metadata": {
        "id": "bGbpF68FYPLd"
      },
      "execution_count": null,
      "outputs": []
    },
    {
      "cell_type": "code",
      "source": [],
      "metadata": {
        "id": "YToco2wQZzyP"
      },
      "execution_count": null,
      "outputs": []
    }
  ]
}