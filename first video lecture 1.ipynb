{
 "cells": [
  {
   "cell_type": "code",
   "execution_count": 1,
   "id": "21df3513",
   "metadata": {},
   "outputs": [
    {
     "data": {
      "text/plain": [
       "5"
      ]
     },
     "execution_count": 1,
     "metadata": {},
     "output_type": "execute_result"
    }
   ],
   "source": [
    "3+2"
   ]
  },
  {
   "cell_type": "code",
   "execution_count": 2,
   "id": "07456814",
   "metadata": {},
   "outputs": [
    {
     "data": {
      "text/plain": [
       "-2"
      ]
     },
     "execution_count": 2,
     "metadata": {},
     "output_type": "execute_result"
    }
   ],
   "source": [
    "4-6"
   ]
  },
  {
   "cell_type": "code",
   "execution_count": 3,
   "id": "18a2beeb",
   "metadata": {},
   "outputs": [
    {
     "data": {
      "text/plain": [
       "12"
      ]
     },
     "execution_count": 3,
     "metadata": {},
     "output_type": "execute_result"
    }
   ],
   "source": [
    "2*6"
   ]
  },
  {
   "cell_type": "code",
   "execution_count": 4,
   "id": "907460e6",
   "metadata": {},
   "outputs": [
    {
     "data": {
      "text/plain": [
       "4.0"
      ]
     },
     "execution_count": 4,
     "metadata": {},
     "output_type": "execute_result"
    }
   ],
   "source": [
    "8/2"
   ]
  },
  {
   "cell_type": "code",
   "execution_count": 6,
   "id": "8a01a292",
   "metadata": {},
   "outputs": [
    {
     "data": {
      "text/plain": [
       "1"
      ]
     },
     "execution_count": 6,
     "metadata": {},
     "output_type": "execute_result"
    }
   ],
   "source": [
    "9%2"
   ]
  },
  {
   "cell_type": "code",
   "execution_count": 7,
   "id": "7659f41b",
   "metadata": {},
   "outputs": [],
   "source": [
    "# this is Ai class and we are learning basic python"
   ]
  },
  {
   "cell_type": "code",
   "execution_count": 8,
   "id": "4fcb21cd",
   "metadata": {},
   "outputs": [
    {
     "data": {
      "text/plain": [
       "28"
      ]
     },
     "execution_count": 8,
     "metadata": {},
     "output_type": "execute_result"
    }
   ],
   "source": [
    "2+10*2+6"
   ]
  },
  {
   "cell_type": "code",
   "execution_count": 9,
   "id": "145b4333",
   "metadata": {},
   "outputs": [
    {
     "data": {
      "text/plain": [
       "96"
      ]
     },
     "execution_count": 9,
     "metadata": {},
     "output_type": "execute_result"
    }
   ],
   "source": [
    "(2+10)*(2+6)"
   ]
  },
  {
   "cell_type": "code",
   "execution_count": 17,
   "id": "e84c003d",
   "metadata": {},
   "outputs": [],
   "source": [
    "raheem_kolachi=10"
   ]
  },
  {
   "cell_type": "code",
   "execution_count": 18,
   "id": "13d1d3b2",
   "metadata": {},
   "outputs": [],
   "source": [
    "a=5"
   ]
  },
  {
   "cell_type": "code",
   "execution_count": 19,
   "id": "d5b605f8",
   "metadata": {},
   "outputs": [],
   "source": [
    "b=10"
   ]
  },
  {
   "cell_type": "code",
   "execution_count": 20,
   "id": "4ecd0d48",
   "metadata": {},
   "outputs": [
    {
     "data": {
      "text/plain": [
       "5"
      ]
     },
     "execution_count": 20,
     "metadata": {},
     "output_type": "execute_result"
    }
   ],
   "source": [
    "a"
   ]
  },
  {
   "cell_type": "code",
   "execution_count": 21,
   "id": "1c26fd1c",
   "metadata": {},
   "outputs": [
    {
     "data": {
      "text/plain": [
       "10"
      ]
     },
     "execution_count": 21,
     "metadata": {},
     "output_type": "execute_result"
    }
   ],
   "source": [
    "b"
   ]
  },
  {
   "cell_type": "code",
   "execution_count": 28,
   "id": "76ed81ee",
   "metadata": {},
   "outputs": [],
   "source": [
    "a=a+b"
   ]
  },
  {
   "cell_type": "code",
   "execution_count": 29,
   "id": "5e13af63",
   "metadata": {},
   "outputs": [
    {
     "data": {
      "text/plain": [
       "45"
      ]
     },
     "execution_count": 29,
     "metadata": {},
     "output_type": "execute_result"
    }
   ],
   "source": [
    "a"
   ]
  },
  {
   "cell_type": "code",
   "execution_count": 31,
   "id": "fbb96bda",
   "metadata": {},
   "outputs": [
    {
     "data": {
      "text/plain": [
       "float"
      ]
     },
     "execution_count": 31,
     "metadata": {},
     "output_type": "execute_result"
    }
   ],
   "source": [
    "type(3.5)"
   ]
  },
  {
   "cell_type": "code",
   "execution_count": 32,
   "id": "9406c45b",
   "metadata": {},
   "outputs": [],
   "source": [
    "my_income=100\n",
    "tex_rate=0.1"
   ]
  },
  {
   "cell_type": "code",
   "execution_count": 33,
   "id": "f6be26e4",
   "metadata": {},
   "outputs": [],
   "source": [
    "my_tex=my_income*tex_rate"
   ]
  },
  {
   "cell_type": "code",
   "execution_count": 35,
   "id": "f570d220",
   "metadata": {},
   "outputs": [
    {
     "data": {
      "text/plain": [
       "10.0"
      ]
     },
     "execution_count": 35,
     "metadata": {},
     "output_type": "execute_result"
    }
   ],
   "source": [
    "my_tex"
   ]
  },
  {
   "cell_type": "code",
   "execution_count": 37,
   "id": "2992b188",
   "metadata": {},
   "outputs": [
    {
     "data": {
      "text/plain": [
       "'hello'"
      ]
     },
     "execution_count": 37,
     "metadata": {},
     "output_type": "execute_result"
    }
   ],
   "source": [
    "\"hello\""
   ]
  },
  {
   "cell_type": "code",
   "execution_count": 38,
   "id": "28ff8274",
   "metadata": {},
   "outputs": [
    {
     "data": {
      "text/plain": [
       "'hello'"
      ]
     },
     "execution_count": 38,
     "metadata": {},
     "output_type": "execute_result"
    }
   ],
   "source": [
    "'hello'"
   ]
  },
  {
   "cell_type": "code",
   "execution_count": 39,
   "id": "36c96433",
   "metadata": {},
   "outputs": [
    {
     "data": {
      "text/plain": [
       "\"i'm Ai teacher\""
      ]
     },
     "execution_count": 39,
     "metadata": {},
     "output_type": "execute_result"
    }
   ],
   "source": [
    "\"i'm Ai teacher\""
   ]
  },
  {
   "cell_type": "code",
   "execution_count": 41,
   "id": "ce2dbaff",
   "metadata": {},
   "outputs": [
    {
     "data": {
      "text/plain": [
       "'HELLO'"
      ]
     },
     "execution_count": 41,
     "metadata": {},
     "output_type": "execute_result"
    }
   ],
   "source": [
    "\"hello\"\n",
    "\"HELLO\""
   ]
  },
  {
   "cell_type": "code",
   "execution_count": 42,
   "id": "2704351d",
   "metadata": {},
   "outputs": [
    {
     "name": "stdout",
     "output_type": "stream",
     "text": [
      "hello\n",
      "HELLO\n"
     ]
    }
   ],
   "source": [
    "print(\"hello\")\n",
    "print(\"HELLO\")"
   ]
  },
  {
   "cell_type": "code",
   "execution_count": 43,
   "id": "0d1076f8",
   "metadata": {},
   "outputs": [
    {
     "name": "stdout",
     "output_type": "stream",
     "text": [
      "this is my name \n",
      " and this is my AI class\n"
     ]
    }
   ],
   "source": [
    "print(\"this is my name \\n and this is my AI class\")"
   ]
  },
  {
   "cell_type": "code",
   "execution_count": 44,
   "id": "32349b4a",
   "metadata": {},
   "outputs": [
    {
     "name": "stdout",
     "output_type": "stream",
     "text": [
      "this is my name \t and this is my AI class\n"
     ]
    }
   ],
   "source": [
    "print(\"this is my name \\t and this is my AI class\")"
   ]
  },
  {
   "cell_type": "code",
   "execution_count": 2,
   "id": "b56e0ddc",
   "metadata": {},
   "outputs": [
    {
     "data": {
      "text/plain": [
       "10"
      ]
     },
     "execution_count": 2,
     "metadata": {},
     "output_type": "execute_result"
    }
   ],
   "source": [
    "len(\"hello word\")"
   ]
  },
  {
   "cell_type": "code",
   "execution_count": 3,
   "id": "ee4304ee",
   "metadata": {},
   "outputs": [],
   "source": [
    "stringvalues=\"this is an AI class and pleaae do your home work\""
   ]
  },
  {
   "cell_type": "code",
   "execution_count": 4,
   "id": "2ad6a03d",
   "metadata": {},
   "outputs": [
    {
     "data": {
      "text/plain": [
       "'this is an AI class and pleaae do your home work'"
      ]
     },
     "execution_count": 4,
     "metadata": {},
     "output_type": "execute_result"
    }
   ],
   "source": [
    "stringvalues"
   ]
  },
  {
   "cell_type": "code",
   "execution_count": 7,
   "id": "3ddaceea",
   "metadata": {},
   "outputs": [
    {
     "data": {
      "text/plain": [
       "'r'"
      ]
     },
     "execution_count": 7,
     "metadata": {},
     "output_type": "execute_result"
    }
   ],
   "source": [
    "stringvalues[-2]"
   ]
  },
  {
   "cell_type": "code",
   "execution_count": 11,
   "id": "9f96aec6",
   "metadata": {},
   "outputs": [
    {
     "data": {
      "text/plain": [
       "'s is an AI class and p'"
      ]
     },
     "execution_count": 11,
     "metadata": {},
     "output_type": "execute_result"
    }
   ],
   "source": [
    "stringvalues[3:25]"
   ]
  },
  {
   "cell_type": "code",
   "execution_count": 16,
   "id": "6a04709d",
   "metadata": {},
   "outputs": [
    {
     "data": {
      "text/plain": [
       "'pea'"
      ]
     },
     "execution_count": 16,
     "metadata": {},
     "output_type": "execute_result"
    }
   ],
   "source": [
    "stringvalues[24:30:2]"
   ]
  },
  {
   "cell_type": "code",
   "execution_count": 17,
   "id": "5a581cd5",
   "metadata": {},
   "outputs": [
    {
     "data": {
      "text/plain": [
       "'this is an AI class and pleaae do your home work'"
      ]
     },
     "execution_count": 17,
     "metadata": {},
     "output_type": "execute_result"
    }
   ],
   "source": [
    "stringvalues"
   ]
  },
  {
   "cell_type": "code",
   "execution_count": 22,
   "id": "7aee0ac8",
   "metadata": {},
   "outputs": [],
   "source": [
    "stringvalues=stringvalues[1:]"
   ]
  },
  {
   "cell_type": "code",
   "execution_count": 23,
   "id": "89e5af31",
   "metadata": {},
   "outputs": [
    {
     "data": {
      "text/plain": [
       "'his is an AI class and pleaae do your home work'"
      ]
     },
     "execution_count": 23,
     "metadata": {},
     "output_type": "execute_result"
    }
   ],
   "source": [
    "stringvalues"
   ]
  },
  {
   "cell_type": "code",
   "execution_count": 24,
   "id": "6e2ef208",
   "metadata": {},
   "outputs": [
    {
     "data": {
      "text/plain": [
       "'Phis is an AI class and pleaae do your home work'"
      ]
     },
     "execution_count": 24,
     "metadata": {},
     "output_type": "execute_result"
    }
   ],
   "source": [
    "'P'+stringvalues"
   ]
  },
  {
   "cell_type": "code",
   "execution_count": 26,
   "id": "005133ba",
   "metadata": {},
   "outputs": [
    {
     "name": "stdout",
     "output_type": "stream",
     "text": [
      "this is my name 14 and this is any number\n"
     ]
    }
   ],
   "source": [
    "print(\"this is my name \"+str(14)+ \" and this is any number\")"
   ]
  },
  {
   "cell_type": "code",
   "execution_count": 27,
   "id": "f5dd686f",
   "metadata": {},
   "outputs": [
    {
     "data": {
      "text/plain": [
       "'132'"
      ]
     },
     "execution_count": 27,
     "metadata": {},
     "output_type": "execute_result"
    }
   ],
   "source": [
    "\"13\"+\"2\""
   ]
  },
  {
   "cell_type": "code",
   "execution_count": 28,
   "id": "c5299cb8",
   "metadata": {},
   "outputs": [
    {
     "data": {
      "text/plain": [
       "15"
      ]
     },
     "execution_count": 28,
     "metadata": {},
     "output_type": "execute_result"
    }
   ],
   "source": [
    "13+2"
   ]
  },
  {
   "cell_type": "code",
   "execution_count": 29,
   "id": "43532c70",
   "metadata": {},
   "outputs": [
    {
     "data": {
      "text/plain": [
       "15"
      ]
     },
     "execution_count": 29,
     "metadata": {},
     "output_type": "execute_result"
    }
   ],
   "source": [
    "int(\"13\")+int(\"2\")"
   ]
  },
  {
   "cell_type": "code",
   "execution_count": 34,
   "id": "a9bbb9b7",
   "metadata": {},
   "outputs": [],
   "source": [
    "stringvalues=stringvalues.upper()"
   ]
  },
  {
   "cell_type": "code",
   "execution_count": 35,
   "id": "4d8803fd",
   "metadata": {},
   "outputs": [
    {
     "data": {
      "text/plain": [
       "'HIS IS AN AI CLASS AND PLEAAE DO YOUR HOME WORK'"
      ]
     },
     "execution_count": 35,
     "metadata": {},
     "output_type": "execute_result"
    }
   ],
   "source": [
    "stringvalues"
   ]
  },
  {
   "cell_type": "code",
   "execution_count": 37,
   "id": "ba3b63b4",
   "metadata": {},
   "outputs": [],
   "source": [
    "stringvalues=stringvalues.lower()"
   ]
  },
  {
   "cell_type": "code",
   "execution_count": 40,
   "id": "d92763d5",
   "metadata": {},
   "outputs": [
    {
     "data": {
      "text/plain": [
       "['hi', ' i', ' an ai cla', '', ' and pleaae do your home work']"
      ]
     },
     "execution_count": 40,
     "metadata": {},
     "output_type": "execute_result"
    }
   ],
   "source": [
    "stringvalues.split('s')"
   ]
  },
  {
   "cell_type": "code",
   "execution_count": 41,
   "id": "0e2cbe8e",
   "metadata": {},
   "outputs": [
    {
     "name": "stdout",
     "output_type": "stream",
     "text": [
      "hello i am raheem\n"
     ]
    }
   ],
   "source": [
    "print(\"hello i am raheem\")"
   ]
  },
  {
   "cell_type": "code",
   "execution_count": 42,
   "id": "5c00b505",
   "metadata": {},
   "outputs": [
    {
     "name": "stdout",
     "output_type": "stream",
     "text": [
      "raheem\n"
     ]
    }
   ],
   "source": [
    "a=input()"
   ]
  },
  {
   "cell_type": "code",
   "execution_count": 54,
   "id": "c93ba2be",
   "metadata": {},
   "outputs": [
    {
     "data": {
      "text/plain": [
       "'raheem'"
      ]
     },
     "execution_count": 54,
     "metadata": {},
     "output_type": "execute_result"
    }
   ],
   "source": [
    "a"
   ]
  },
  {
   "cell_type": "code",
   "execution_count": 57,
   "id": "48a05230",
   "metadata": {},
   "outputs": [
    {
     "name": "stdout",
     "output_type": "stream",
     "text": [
      "this is raheem and raheem is raheem\n"
     ]
    }
   ],
   "source": [
    "print(f\"this is {a} and {a} is {a}\")"
   ]
  },
  {
   "cell_type": "code",
   "execution_count": null,
   "id": "ac39acb3",
   "metadata": {},
   "outputs": [],
   "source": []
  }
 ],
 "metadata": {
  "kernelspec": {
   "display_name": "Python 3 (ipykernel)",
   "language": "python",
   "name": "python3"
  },
  "language_info": {
   "codemirror_mode": {
    "name": "ipython",
    "version": 3
   },
   "file_extension": ".py",
   "mimetype": "text/x-python",
   "name": "python",
   "nbconvert_exporter": "python",
   "pygments_lexer": "ipython3",
   "version": "3.9.13"
  }
 },
 "nbformat": 4,
 "nbformat_minor": 5
}
