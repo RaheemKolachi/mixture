{
 "cells": [
  {
   "cell_type": "markdown",
   "id": "1c39ea50",
   "metadata": {},
   "source": [
    "# Data Collection "
   ]
  },
  {
   "cell_type": "code",
   "execution_count": 1,
   "id": "cb1e6d42",
   "metadata": {},
   "outputs": [],
   "source": [
    "import cv2 \n",
    "cap=cv2.VideoCapture(0)\n",
    "a=0"
   ]
  },
  {
   "cell_type": "code",
   "execution_count": null,
   "id": "b4ed3bef",
   "metadata": {},
   "outputs": [],
   "source": [
    "while True:\n",
    "    b,img=cap.read()\n",
    "    a=a+1\n",
    "    cv2.imwrite(\"Downloads/AI_dataset/mobile/AI\"+str(a)+\".jpg\",img)\n",
    "    cv2.imshow(\"AI class\",img)\n",
    "    cv2.waitKey(1)"
   ]
  },
  {
   "cell_type": "code",
   "execution_count": 6,
   "id": "aea47dc1",
   "metadata": {},
   "outputs": [],
   "source": [
    "import pandas as pd\n",
    "import numpy as np\n",
    "from imutils import paths\n",
    "import os "
   ]
  },
  {
   "cell_type": "code",
   "execution_count": 7,
   "id": "06c0368e",
   "metadata": {},
   "outputs": [],
   "source": [
    "pat=list(paths.list_images(\"Downloads/AI_dataset\"))"
   ]
  },
  {
   "cell_type": "code",
   "execution_count": 16,
   "id": "1ab0aa96",
   "metadata": {},
   "outputs": [],
   "source": [
    "IMG=[]\n",
    "y=[]\n",
    "for i, img in enumerate(pat):\n",
    "    im=cv2.imread(img)\n",
    "    im=cv2.resize(im,(64,64))\n",
    "    IMG.append(im)\n",
    "    y.append(img.split(os.path.sep)[-2])\n"
   ]
  },
  {
   "cell_type": "code",
   "execution_count": 19,
   "id": "6ab8b535",
   "metadata": {},
   "outputs": [],
   "source": [
    "Y=[]\n",
    "for a in y:\n",
    "    if a==\"mobile\":\n",
    "        Y.append(0)\n",
    "    if a==\"raheem\":\n",
    "        Y.append(1)\n",
    "        "
   ]
  },
  {
   "cell_type": "code",
   "execution_count": 30,
   "id": "53230555",
   "metadata": {},
   "outputs": [],
   "source": [
    "x=np.array(IMG)\n",
    "y=np.array(Y)"
   ]
  },
  {
   "cell_type": "code",
   "execution_count": 23,
   "id": "caeb6c13",
   "metadata": {},
   "outputs": [],
   "source": [
    "import tensorflow as tf\n",
    "from tensorflow import keras\n",
    "model=keras.models.Sequential()"
   ]
  },
  {
   "cell_type": "code",
   "execution_count": 24,
   "id": "93c88f43",
   "metadata": {},
   "outputs": [],
   "source": [
    "model.add(keras.layers.Conv2D(16,kernel_size=(3,3),input_shape=[64,64,3]))"
   ]
  },
  {
   "cell_type": "code",
   "execution_count": 25,
   "id": "6b28f19b",
   "metadata": {},
   "outputs": [],
   "source": [
    "model.add(keras.layers.MaxPool2D((2,2)))\n"
   ]
  },
  {
   "cell_type": "code",
   "execution_count": 26,
   "id": "f620431e",
   "metadata": {},
   "outputs": [],
   "source": [
    "model.add(keras.layers.Flatten())\n"
   ]
  },
  {
   "cell_type": "code",
   "execution_count": 27,
   "id": "49e2e177",
   "metadata": {},
   "outputs": [],
   "source": [
    "model.add(keras.layers.Dense(16,activation=\"relu\"))\n",
    "model.add(keras.layers.Dense(2,activation=\"softmax\"))"
   ]
  },
  {
   "cell_type": "code",
   "execution_count": 32,
   "id": "9c32c3dc",
   "metadata": {},
   "outputs": [],
   "source": [
    "model.compile(loss=\"sparse_categorical_crossentropy\",optimizer=\"adam\",metrics=[\"accuracy\"])"
   ]
  },
  {
   "cell_type": "code",
   "execution_count": 33,
   "id": "efa7b0c0",
   "metadata": {},
   "outputs": [
    {
     "name": "stdout",
     "output_type": "stream",
     "text": [
      "Epoch 1/30\n",
      "25/25 [==============================] - 2s 49ms/step - loss: 0.0000e+00 - accuracy: 1.0000\n",
      "Epoch 2/30\n",
      "25/25 [==============================] - 1s 49ms/step - loss: 0.0000e+00 - accuracy: 1.0000\n",
      "Epoch 3/30\n",
      "25/25 [==============================] - 1s 47ms/step - loss: 0.0000e+00 - accuracy: 1.0000\n",
      "Epoch 4/30\n",
      "25/25 [==============================] - 1s 52ms/step - loss: 0.0000e+00 - accuracy: 1.0000\n",
      "Epoch 5/30\n",
      "25/25 [==============================] - 1s 45ms/step - loss: 0.0000e+00 - accuracy: 1.0000\n",
      "Epoch 6/30\n",
      "25/25 [==============================] - 1s 51ms/step - loss: 0.0000e+00 - accuracy: 1.0000\n",
      "Epoch 7/30\n",
      "25/25 [==============================] - 1s 40ms/step - loss: 0.0000e+00 - accuracy: 1.0000\n",
      "Epoch 8/30\n",
      "25/25 [==============================] - 1s 40ms/step - loss: 0.0000e+00 - accuracy: 1.0000\n",
      "Epoch 9/30\n",
      "25/25 [==============================] - 1s 40ms/step - loss: 0.0000e+00 - accuracy: 1.0000\n",
      "Epoch 10/30\n",
      "25/25 [==============================] - 1s 58ms/step - loss: 0.0000e+00 - accuracy: 1.0000\n",
      "Epoch 11/30\n",
      "25/25 [==============================] - 1s 52ms/step - loss: 0.0000e+00 - accuracy: 1.0000\n",
      "Epoch 12/30\n",
      "25/25 [==============================] - 1s 58ms/step - loss: 0.0000e+00 - accuracy: 1.0000\n",
      "Epoch 13/30\n",
      "25/25 [==============================] - 1s 46ms/step - loss: 0.0000e+00 - accuracy: 1.0000\n",
      "Epoch 14/30\n",
      "25/25 [==============================] - 1s 48ms/step - loss: 0.0000e+00 - accuracy: 1.0000\n",
      "Epoch 15/30\n",
      "25/25 [==============================] - 1s 48ms/step - loss: 0.0000e+00 - accuracy: 1.0000\n",
      "Epoch 16/30\n",
      "25/25 [==============================] - 1s 47ms/step - loss: 0.0000e+00 - accuracy: 1.0000\n",
      "Epoch 17/30\n",
      "25/25 [==============================] - 1s 54ms/step - loss: 0.0000e+00 - accuracy: 1.0000\n",
      "Epoch 18/30\n",
      "25/25 [==============================] - 1s 49ms/step - loss: 0.0000e+00 - accuracy: 1.0000\n",
      "Epoch 19/30\n",
      "25/25 [==============================] - 1s 51ms/step - loss: 0.0000e+00 - accuracy: 1.0000\n",
      "Epoch 20/30\n",
      "25/25 [==============================] - 1s 43ms/step - loss: 0.0000e+00 - accuracy: 1.0000\n",
      "Epoch 21/30\n",
      "25/25 [==============================] - 1s 51ms/step - loss: 0.0000e+00 - accuracy: 1.0000\n",
      "Epoch 22/30\n",
      "25/25 [==============================] - 1s 52ms/step - loss: 0.0000e+00 - accuracy: 1.0000\n",
      "Epoch 23/30\n",
      "25/25 [==============================] - 1s 46ms/step - loss: 0.0000e+00 - accuracy: 1.0000\n",
      "Epoch 24/30\n",
      "25/25 [==============================] - 1s 48ms/step - loss: 0.0000e+00 - accuracy: 1.0000\n",
      "Epoch 25/30\n",
      "25/25 [==============================] - 2s 65ms/step - loss: 0.0000e+00 - accuracy: 1.0000\n",
      "Epoch 26/30\n",
      "25/25 [==============================] - 1s 46ms/step - loss: 0.0000e+00 - accuracy: 1.0000\n",
      "Epoch 27/30\n",
      "25/25 [==============================] - 1s 44ms/step - loss: 0.0000e+00 - accuracy: 1.0000\n",
      "Epoch 28/30\n",
      "25/25 [==============================] - 1s 59ms/step - loss: 0.0000e+00 - accuracy: 1.0000\n",
      "Epoch 29/30\n",
      "25/25 [==============================] - 1s 60ms/step - loss: 0.0000e+00 - accuracy: 1.0000\n",
      "Epoch 30/30\n",
      "25/25 [==============================] - 1s 48ms/step - loss: 0.0000e+00 - accuracy: 1.0000\n"
     ]
    },
    {
     "data": {
      "text/plain": [
       "<keras.callbacks.History at 0x1dc5a45b820>"
      ]
     },
     "execution_count": 33,
     "metadata": {},
     "output_type": "execute_result"
    }
   ],
   "source": [
    "model.fit(x,y,epochs=30)"
   ]
  },
  {
   "cell_type": "code",
   "execution_count": 34,
   "id": "a4f90a49",
   "metadata": {},
   "outputs": [],
   "source": [
    "model.save(\"cnnmodel.h5\")"
   ]
  },
  {
   "cell_type": "code",
   "execution_count": null,
   "id": "69fd6eb5",
   "metadata": {},
   "outputs": [],
   "source": []
  }
 ],
 "metadata": {
  "kernelspec": {
   "display_name": "Python 3 (ipykernel)",
   "language": "python",
   "name": "python3"
  },
  "language_info": {
   "codemirror_mode": {
    "name": "ipython",
    "version": 3
   },
   "file_extension": ".py",
   "mimetype": "text/x-python",
   "name": "python",
   "nbconvert_exporter": "python",
   "pygments_lexer": "ipython3",
   "version": "3.10.4"
  }
 },
 "nbformat": 4,
 "nbformat_minor": 5
}
