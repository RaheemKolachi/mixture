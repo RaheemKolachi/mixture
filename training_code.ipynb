{
  "nbformat": 4,
  "nbformat_minor": 0,
  "metadata": {
    "colab": {
      "provenance": []
    },
    "kernelspec": {
      "name": "python3",
      "display_name": "Python 3"
    },
    "language_info": {
      "name": "python"
    }
  },
  "cells": [
    {
      "cell_type": "code",
      "execution_count": null,
      "metadata": {
        "id": "KMddSYQsQk0r"
      },
      "outputs": [],
      "source": [
        "pip install transformers"
      ]
    },
    {
      "cell_type": "code",
      "source": [
        "import pandas as pd\n",
        "import torch\n",
        "from transformers import GPT2Tokenizer, GPT2LMHeadModel\n",
        "\n",
        "# Load the data into a Pandas dataframe\n",
        "df = pd.read_csv('/content/plot_dataset.csv')\n",
        "\n",
        "# Use only the first 1200 rows\n",
        "df = df[:1200]\n",
        "\n",
        "# Drop any rows with null values\n",
        "df = df.dropna()\n",
        "\n",
        "# Prepare the data for training\n",
        "input_texts = df['plot'].tolist()\n",
        "\n",
        "# Tokenize the input texts\n",
        "tokenizer = GPT2Tokenizer.from_pretrained('gpt2')\n",
        "tokenizer.add_special_tokens({'pad_token': '[PAD]'})\n",
        "input_encodings = tokenizer(input_texts, truncation=True, padding=True, return_tensors='pt')\n",
        "\n",
        "# Train the model on your dataset\n",
        "model = GPT2LMHeadModel.from_pretrained('gpt2')\n",
        "model.resize_token_embeddings(len(tokenizer))\n",
        "optimizer = torch.optim.Adam(model.parameters(), lr=5e-5)\n",
        "\n",
        "model.train()\n",
        "batch_size = 16 # batch size\n",
        "max_length = 128  # limit the sequence length\n",
        "num_epochs = 3\n",
        "\n",
        "for epoch in range(num_epochs):\n",
        "    total_loss = 0\n",
        "    num_batches = 0\n",
        "    for i in range(0, len(input_encodings['input_ids']), batch_size):\n",
        "        loss = None  # Initialize loss as None at the beginning of each loop\n",
        "        try:\n",
        "            optimizer.zero_grad()\n",
        "\n",
        "            # Ensure the batch size fits in memory\n",
        "            batch_input_ids = input_encodings['input_ids'][i:i+batch_size]\n",
        "            batch_input_ids = batch_input_ids[:, :max_length]  # limit the sequence length\n",
        "\n",
        "            # Move tensors to the device where the model is\n",
        "            batch_input_ids = batch_input_ids.to(model.device)\n",
        "\n",
        "            outputs = model(batch_input_ids, labels=batch_input_ids)\n",
        "            loss = outputs.loss\n",
        "            loss.backward()\n",
        "\n",
        "            # Clip gradients to prevent explosion\n",
        "            torch.nn.utils.clip_grad_norm_(model.parameters(), 1.0)\n",
        "\n",
        "            optimizer.step()\n",
        "\n",
        "            total_loss += loss.item()\n",
        "            num_batches += 1\n",
        "\n",
        "        except Exception as e:\n",
        "            print(f\"An error occurred: {e}\")\n",
        "\n",
        "        finally:\n",
        "            # Clearing the GPU memory after the end of each step\n",
        "            del batch_input_ids\n",
        "            del outputs\n",
        "            torch.cuda.empty_cache()\n",
        "\n",
        "    if num_batches > 0:\n",
        "        print(f'Epoch {epoch+1} average loss: {total_loss/num_batches}')\n",
        "    else:\n",
        "        print(f'Epoch {epoch+1} no data to process')\n",
        "\n",
        "# Save the model and tokenizer\n",
        "model.save_pretrained('title_generation_model.pt')\n",
        "tokenizer.save_pretrained('/content/tokenizer_title')"
      ],
      "metadata": {
        "id": "h0F5fxs7QtV6"
      },
      "execution_count": null,
      "outputs": []
    }
  ]
}