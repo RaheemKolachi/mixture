{
 "cells": [
  {
   "cell_type": "code",
   "execution_count": 1,
   "id": "4cdd0f7f",
   "metadata": {},
   "outputs": [],
   "source": [
    "import numpy as np\n",
    "import cv2\n",
    "import tensorflow as tf\n",
    "from tensorflow import keras \n",
    "from imutils import paths \n",
    "import os "
   ]
  },
  {
   "cell_type": "code",
   "execution_count": 4,
   "id": "cdd789f0",
   "metadata": {},
   "outputs": [],
   "source": [
    "pa=list(paths.list_images(\"Downloads/Compressed/archive_2/cotton_data/training\"))"
   ]
  },
  {
   "cell_type": "code",
   "execution_count": 22,
   "id": "39ab267c",
   "metadata": {},
   "outputs": [],
   "source": [
    "IMG=[]\n",
    "lab=[]\n",
    "for i, img in enumerate(pa):\n",
    "    img2=cv2.imread(img)\n",
    "    img2=cv2.resize(img2,(32,32))\n",
    "    lab.append(img.split(os.path.sep)[-2])\n",
    "    IMG.append(img2)"
   ]
  },
  {
   "cell_type": "code",
   "execution_count": 26,
   "id": "7a438cce",
   "metadata": {},
   "outputs": [],
   "source": [
    "y=[]\n",
    "for a in lab:\n",
    "    if a==\"bacterial_blight\":\n",
    "        y.append(0)\n",
    "    if a==\"curl_virus\":\n",
    "        y.append(1)"
   ]
  },
  {
   "cell_type": "code",
   "execution_count": 28,
   "id": "6be6bd55",
   "metadata": {},
   "outputs": [],
   "source": [
    "x=np.array(IMG)\n",
    "Y=np.array(y)"
   ]
  },
  {
   "cell_type": "code",
   "execution_count": 29,
   "id": "eca63cb9",
   "metadata": {},
   "outputs": [],
   "source": [
    "import tensorflow as tf\n",
    "from tensorflow import keras\n",
    "model=keras.models.Sequential()\n"
   ]
  },
  {
   "cell_type": "code",
   "execution_count": 32,
   "id": "fa59b6f4",
   "metadata": {},
   "outputs": [],
   "source": [
    "model.add(keras.layers.Flatten(input_shape=[32,32,3]))\n",
    "model.add(keras.layers.Dense(2,activation=\"sigmoid\"))"
   ]
  },
  {
   "cell_type": "code",
   "execution_count": 37,
   "id": "9b999317",
   "metadata": {},
   "outputs": [],
   "source": [
    "model.compile(loss=\"sparse_categorical_crossentropy\",optimizer=\"adam\",metrics=[\"accuracy\"])"
   ]
  },
  {
   "cell_type": "code",
   "execution_count": 38,
   "id": "e7b65b14",
   "metadata": {},
   "outputs": [
    {
     "name": "stdout",
     "output_type": "stream",
     "text": [
      "Epoch 1/20\n",
      "21/21 [==============================] - 1s 3ms/step - loss: 90.1107 - accuracy: 0.5639\n",
      "Epoch 2/20\n",
      "21/21 [==============================] - 0s 4ms/step - loss: 24.9297 - accuracy: 0.6947\n",
      "Epoch 3/20\n",
      "21/21 [==============================] - 0s 4ms/step - loss: 13.3728 - accuracy: 0.7729\n",
      "Epoch 4/20\n",
      "21/21 [==============================] - 0s 4ms/step - loss: 15.3578 - accuracy: 0.7504\n",
      "Epoch 5/20\n",
      "21/21 [==============================] - 0s 3ms/step - loss: 10.0514 - accuracy: 0.8060\n",
      "Epoch 6/20\n",
      "21/21 [==============================] - 0s 4ms/step - loss: 7.0968 - accuracy: 0.8496\n",
      "Epoch 7/20\n",
      "21/21 [==============================] - 0s 3ms/step - loss: 8.9463 - accuracy: 0.8346\n",
      "Epoch 8/20\n",
      "21/21 [==============================] - 0s 3ms/step - loss: 8.9153 - accuracy: 0.8060\n",
      "Epoch 9/20\n",
      "21/21 [==============================] - 0s 4ms/step - loss: 24.6663 - accuracy: 0.7353\n",
      "Epoch 10/20\n",
      "21/21 [==============================] - 0s 4ms/step - loss: 13.8223 - accuracy: 0.7895\n",
      "Epoch 11/20\n",
      "21/21 [==============================] - 0s 3ms/step - loss: 5.8262 - accuracy: 0.8902\n",
      "Epoch 12/20\n",
      "21/21 [==============================] - 0s 4ms/step - loss: 3.8314 - accuracy: 0.9308\n",
      "Epoch 13/20\n",
      "21/21 [==============================] - 0s 4ms/step - loss: 3.0568 - accuracy: 0.9353\n",
      "Epoch 14/20\n",
      "21/21 [==============================] - 0s 4ms/step - loss: 1.2735 - accuracy: 0.9594\n",
      "Epoch 15/20\n",
      "21/21 [==============================] - 0s 4ms/step - loss: 1.4524 - accuracy: 0.9429\n",
      "Epoch 16/20\n",
      "21/21 [==============================] - 0s 4ms/step - loss: 1.5180 - accuracy: 0.9534\n",
      "Epoch 17/20\n",
      "21/21 [==============================] - 0s 5ms/step - loss: 0.9793 - accuracy: 0.9669\n",
      "Epoch 18/20\n",
      "21/21 [==============================] - 0s 4ms/step - loss: 0.2982 - accuracy: 0.9805\n",
      "Epoch 19/20\n",
      "21/21 [==============================] - 0s 5ms/step - loss: 0.2038 - accuracy: 0.9910\n",
      "Epoch 20/20\n",
      "21/21 [==============================] - 0s 4ms/step - loss: 0.0460 - accuracy: 0.9955\n"
     ]
    },
    {
     "data": {
      "text/plain": [
       "<keras.callbacks.History at 0x18ce6abc070>"
      ]
     },
     "execution_count": 38,
     "metadata": {},
     "output_type": "execute_result"
    }
   ],
   "source": [
    "model.fit(x,Y,epochs=20)"
   ]
  },
  {
   "cell_type": "code",
   "execution_count": 40,
   "id": "a4b1da5e",
   "metadata": {},
   "outputs": [],
   "source": [
    "model.save(\"firstANN.h5\")"
   ]
  },
  {
   "cell_type": "code",
   "execution_count": null,
   "id": "725002b2",
   "metadata": {},
   "outputs": [],
   "source": []
  }
 ],
 "metadata": {
  "kernelspec": {
   "display_name": "Python 3 (ipykernel)",
   "language": "python",
   "name": "python3"
  },
  "language_info": {
   "codemirror_mode": {
    "name": "ipython",
    "version": 3
   },
   "file_extension": ".py",
   "mimetype": "text/x-python",
   "name": "python",
   "nbconvert_exporter": "python",
   "pygments_lexer": "ipython3",
   "version": "3.10.4"
  }
 },
 "nbformat": 4,
 "nbformat_minor": 5
}
