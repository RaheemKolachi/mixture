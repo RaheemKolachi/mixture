{
 "cells": [
  {
   "cell_type": "code",
   "execution_count": 2,
   "id": "15acb8ff",
   "metadata": {},
   "outputs": [],
   "source": [
    "a=3"
   ]
  },
  {
   "cell_type": "code",
   "execution_count": 4,
   "id": "1bb70b83",
   "metadata": {},
   "outputs": [
    {
     "name": "stdout",
     "output_type": "stream",
     "text": [
      "3\n"
     ]
    }
   ],
   "source": [
    "print(a)"
   ]
  },
  {
   "cell_type": "code",
   "execution_count": 5,
   "id": "bb1ed509",
   "metadata": {},
   "outputs": [
    {
     "data": {
      "text/plain": [
       "int"
      ]
     },
     "execution_count": 5,
     "metadata": {},
     "output_type": "execute_result"
    }
   ],
   "source": [
    "type(a)"
   ]
  },
  {
   "cell_type": "code",
   "execution_count": 6,
   "id": "d6b52f90",
   "metadata": {},
   "outputs": [],
   "source": [
    "b=3.5"
   ]
  },
  {
   "cell_type": "code",
   "execution_count": 7,
   "id": "361b400d",
   "metadata": {},
   "outputs": [
    {
     "data": {
      "text/plain": [
       "3.5"
      ]
     },
     "execution_count": 7,
     "metadata": {},
     "output_type": "execute_result"
    }
   ],
   "source": [
    "b"
   ]
  },
  {
   "cell_type": "code",
   "execution_count": 8,
   "id": "69793ef9",
   "metadata": {},
   "outputs": [
    {
     "data": {
      "text/plain": [
       "float"
      ]
     },
     "execution_count": 8,
     "metadata": {},
     "output_type": "execute_result"
    }
   ],
   "source": [
    "type(b)"
   ]
  },
  {
   "cell_type": "code",
   "execution_count": 9,
   "id": "50f9d827",
   "metadata": {},
   "outputs": [],
   "source": [
    "c=True"
   ]
  },
  {
   "cell_type": "code",
   "execution_count": 10,
   "id": "0f069d41",
   "metadata": {},
   "outputs": [
    {
     "data": {
      "text/plain": [
       "bool"
      ]
     },
     "execution_count": 10,
     "metadata": {},
     "output_type": "execute_result"
    }
   ],
   "source": [
    "type(c)"
   ]
  },
  {
   "cell_type": "code",
   "execution_count": 11,
   "id": "43c9be78",
   "metadata": {},
   "outputs": [
    {
     "data": {
      "text/plain": [
       "False"
      ]
     },
     "execution_count": 11,
     "metadata": {},
     "output_type": "execute_result"
    }
   ],
   "source": [
    "a==b"
   ]
  },
  {
   "cell_type": "code",
   "execution_count": 12,
   "id": "7a1d3fb2",
   "metadata": {},
   "outputs": [],
   "source": [
    "a=b"
   ]
  },
  {
   "cell_type": "code",
   "execution_count": 13,
   "id": "496ac246",
   "metadata": {},
   "outputs": [
    {
     "data": {
      "text/plain": [
       "True"
      ]
     },
     "execution_count": 13,
     "metadata": {},
     "output_type": "execute_result"
    }
   ],
   "source": [
    "a==b"
   ]
  },
  {
   "cell_type": "code",
   "execution_count": 14,
   "id": "dbe04d6a",
   "metadata": {},
   "outputs": [],
   "source": [
    "x=10\n",
    "y=20"
   ]
  },
  {
   "cell_type": "code",
   "execution_count": 15,
   "id": "8bbcb25d",
   "metadata": {},
   "outputs": [
    {
     "data": {
      "text/plain": [
       "False"
      ]
     },
     "execution_count": 15,
     "metadata": {},
     "output_type": "execute_result"
    }
   ],
   "source": [
    "x>y"
   ]
  },
  {
   "cell_type": "code",
   "execution_count": 16,
   "id": "c13d4cfb",
   "metadata": {},
   "outputs": [
    {
     "data": {
      "text/plain": [
       "True"
      ]
     },
     "execution_count": 16,
     "metadata": {},
     "output_type": "execute_result"
    }
   ],
   "source": [
    "x<y"
   ]
  },
  {
   "cell_type": "code",
   "execution_count": 19,
   "id": "b9159407",
   "metadata": {},
   "outputs": [
    {
     "data": {
      "text/plain": [
       "False"
      ]
     },
     "execution_count": 19,
     "metadata": {},
     "output_type": "execute_result"
    }
   ],
   "source": [
    "x==y"
   ]
  },
  {
   "cell_type": "code",
   "execution_count": 21,
   "id": "2ad3d7b0",
   "metadata": {},
   "outputs": [
    {
     "data": {
      "text/plain": [
       "'AI and App dev class'"
      ]
     },
     "execution_count": 21,
     "metadata": {},
     "output_type": "execute_result"
    }
   ],
   "source": [
    "'AI and App dev class'"
   ]
  },
  {
   "cell_type": "code",
   "execution_count": 22,
   "id": "5a4d5124",
   "metadata": {},
   "outputs": [],
   "source": [
    "Class='AI and App dev class'"
   ]
  },
  {
   "cell_type": "code",
   "execution_count": 28,
   "id": "e79a1833",
   "metadata": {},
   "outputs": [
    {
     "data": {
      "text/plain": [
       "'p dev class'"
      ]
     },
     "execution_count": 28,
     "metadata": {},
     "output_type": "execute_result"
    }
   ],
   "source": [
    "Class[9:]"
   ]
  },
  {
   "cell_type": "code",
   "execution_count": 29,
   "id": "cd8f0ac9",
   "metadata": {},
   "outputs": [
    {
     "data": {
      "text/plain": [
       "'p dev cl'"
      ]
     },
     "execution_count": 29,
     "metadata": {},
     "output_type": "execute_result"
    }
   ],
   "source": [
    "Class[9:-3]"
   ]
  },
  {
   "cell_type": "code",
   "execution_count": 30,
   "id": "d7686370",
   "metadata": {},
   "outputs": [],
   "source": [
    "class2=\"this is a navttc class\""
   ]
  },
  {
   "cell_type": "code",
   "execution_count": 33,
   "id": "1bff0bc3",
   "metadata": {},
   "outputs": [
    {
     "data": {
      "text/plain": [
       "'ti sanvt ls'"
      ]
     },
     "execution_count": 33,
     "metadata": {},
     "output_type": "execute_result"
    }
   ],
   "source": [
    "class2[::2]"
   ]
  },
  {
   "cell_type": "code",
   "execution_count": 35,
   "id": "8a85c234",
   "metadata": {},
   "outputs": [
    {
     "data": {
      "text/plain": [
       "'this is a navttc classAI and App dev class'"
      ]
     },
     "execution_count": 35,
     "metadata": {},
     "output_type": "execute_result"
    }
   ],
   "source": [
    "class2+Class"
   ]
  },
  {
   "cell_type": "code",
   "execution_count": 37,
   "id": "6126e493",
   "metadata": {},
   "outputs": [
    {
     "name": "stdout",
     "output_type": "stream",
     "text": [
      "hi navttc \n",
      " class \n",
      " at univer \n"
     ]
    }
   ],
   "source": [
    "print(\"hi navttc \\n class \\n at univer \")"
   ]
  },
  {
   "cell_type": "code",
   "execution_count": 38,
   "id": "fc3b8bbe",
   "metadata": {},
   "outputs": [
    {
     "data": {
      "text/plain": [
       "str"
      ]
     },
     "execution_count": 38,
     "metadata": {},
     "output_type": "execute_result"
    }
   ],
   "source": [
    "type(class2)"
   ]
  },
  {
   "cell_type": "code",
   "execution_count": 40,
   "id": "15d486a1",
   "metadata": {},
   "outputs": [
    {
     "data": {
      "text/plain": [
       "'THIS IS A NAVTTC CLASS'"
      ]
     },
     "execution_count": 40,
     "metadata": {},
     "output_type": "execute_result"
    }
   ],
   "source": [
    "class2.upper()"
   ]
  },
  {
   "cell_type": "code",
   "execution_count": 41,
   "id": "4af040d9",
   "metadata": {},
   "outputs": [
    {
     "data": {
      "text/plain": [
       "'this is a navttc class'"
      ]
     },
     "execution_count": 41,
     "metadata": {},
     "output_type": "execute_result"
    }
   ],
   "source": [
    "class2.lower()"
   ]
  },
  {
   "cell_type": "code",
   "execution_count": 44,
   "id": "15e765a4",
   "metadata": {},
   "outputs": [],
   "source": [
    "class2=class2.upper()"
   ]
  },
  {
   "cell_type": "code",
   "execution_count": 45,
   "id": "047343ff",
   "metadata": {},
   "outputs": [
    {
     "data": {
      "text/plain": [
       "'THIS IS A NAVTTC CLASS'"
      ]
     },
     "execution_count": 45,
     "metadata": {},
     "output_type": "execute_result"
    }
   ],
   "source": [
    "class2"
   ]
  },
  {
   "cell_type": "code",
   "execution_count": 52,
   "id": "951fa15e",
   "metadata": {},
   "outputs": [
    {
     "name": "stdout",
     "output_type": "stream",
     "text": [
      "6\n"
     ]
    }
   ],
   "source": [
    "name =int(input())"
   ]
  },
  {
   "cell_type": "code",
   "execution_count": 53,
   "id": "13f26924",
   "metadata": {},
   "outputs": [
    {
     "data": {
      "text/plain": [
       "6"
      ]
     },
     "execution_count": 53,
     "metadata": {},
     "output_type": "execute_result"
    }
   ],
   "source": [
    "name"
   ]
  },
  {
   "cell_type": "code",
   "execution_count": 54,
   "id": "9cee0972",
   "metadata": {},
   "outputs": [
    {
     "data": {
      "text/plain": [
       "int"
      ]
     },
     "execution_count": 54,
     "metadata": {},
     "output_type": "execute_result"
    }
   ],
   "source": [
    "type(name)"
   ]
  },
  {
   "cell_type": "code",
   "execution_count": 65,
   "id": "77adedf3",
   "metadata": {},
   "outputs": [
    {
     "name": "stdout",
     "output_type": "stream",
     "text": [
      "enter your nameAi\n"
     ]
    }
   ],
   "source": [
    "name=input(\"enter your name\")"
   ]
  },
  {
   "cell_type": "code",
   "execution_count": 66,
   "id": "70d89b51",
   "metadata": {},
   "outputs": [
    {
     "data": {
      "text/plain": [
       "'Ai'"
      ]
     },
     "execution_count": 66,
     "metadata": {},
     "output_type": "execute_result"
    }
   ],
   "source": [
    "name"
   ]
  },
  {
   "cell_type": "code",
   "execution_count": 69,
   "id": "f98664f4",
   "metadata": {},
   "outputs": [
    {
     "name": "stdout",
     "output_type": "stream",
     "text": [
      "my name is kolachi and my cast is raheem\n"
     ]
    }
   ],
   "source": [
    "print(\"my name is {1} and my cast is {0}\".format(\"raheem\",\"kolachi\"))"
   ]
  },
  {
   "cell_type": "code",
   "execution_count": 70,
   "id": "e74bc4fc",
   "metadata": {},
   "outputs": [
    {
     "name": "stdout",
     "output_type": "stream",
     "text": [
      "my name is raheem and my cast is kolachi\n"
     ]
    }
   ],
   "source": [
    "print(\"my name is {r} and my cast is {c}\".format(r=\"raheem\",c=\"kolachi\"))"
   ]
  },
  {
   "cell_type": "code",
   "execution_count": 79,
   "id": "908202ba",
   "metadata": {},
   "outputs": [
    {
     "name": "stdout",
     "output_type": "stream",
     "text": [
      "38373\n"
     ]
    }
   ],
   "source": [
    "a=int(input())\n",
    "a=a%7"
   ]
  },
  {
   "cell_type": "code",
   "execution_count": 80,
   "id": "e7688e52",
   "metadata": {},
   "outputs": [
    {
     "data": {
      "text/plain": [
       "6"
      ]
     },
     "execution_count": 80,
     "metadata": {},
     "output_type": "execute_result"
    }
   ],
   "source": [
    "a"
   ]
  },
  {
   "cell_type": "code",
   "execution_count": 81,
   "id": "4f19372f",
   "metadata": {},
   "outputs": [],
   "source": [
    "a=\"5\"\n",
    "b=5"
   ]
  },
  {
   "cell_type": "code",
   "execution_count": 84,
   "id": "d4546a67",
   "metadata": {},
   "outputs": [
    {
     "data": {
      "text/plain": [
       "True"
      ]
     },
     "execution_count": 84,
     "metadata": {},
     "output_type": "execute_result"
    }
   ],
   "source": [
    "a==str(b)"
   ]
  },
  {
   "cell_type": "code",
   "execution_count": null,
   "id": "73251fbc",
   "metadata": {},
   "outputs": [],
   "source": []
  },
  {
   "cell_type": "code",
   "execution_count": null,
   "id": "61f736db",
   "metadata": {},
   "outputs": [],
   "source": []
  }
 ],
 "metadata": {
  "kernelspec": {
   "display_name": "Python 3 (ipykernel)",
   "language": "python",
   "name": "python3"
  },
  "language_info": {
   "codemirror_mode": {
    "name": "ipython",
    "version": 3
   },
   "file_extension": ".py",
   "mimetype": "text/x-python",
   "name": "python",
   "nbconvert_exporter": "python",
   "pygments_lexer": "ipython3",
   "version": "3.9.13"
  }
 },
 "nbformat": 4,
 "nbformat_minor": 5
}
