{
 "cells": [
  {
   "cell_type": "code",
   "execution_count": 24,
   "id": "2738f3da",
   "metadata": {},
   "outputs": [
    {
     "name": "stdout",
     "output_type": "stream",
     "text": [
      "[*] Connected to 127.0.0.1:9999\n",
      "eye color=darkslategray, skin color=mediumpurple, hair color=dimgray\n"
     ]
    }
   ],
   "source": [
    "import socket\n",
    "import struct\n",
    "import io\n",
    "from PIL import Image\n",
    "\n",
    "def send_image(client_socket, image_path):\n",
    "    with open(image_path, \"rb\") as image_file:\n",
    "        img = Image.open(image_file)\n",
    "        img_data = io.BytesIO()\n",
    "        img.save(img_data, format='JPEG')\n",
    "    img_data = img_data.getvalue()\n",
    "    msg_size = len(img_data)\n",
    "    packed_msg_size = struct.pack(\"=I\", msg_size)\n",
    "    client_socket.sendall(packed_msg_size + img_data)\n",
    "\n",
    "def receive_colors(client_socket):\n",
    "    data = client_socket.recv(1024)\n",
    "    colors = data.decode()\n",
    "    return colors\n",
    "\n",
    "def main():\n",
    "    host = \"127.0.0.1\"\n",
    "    port = 9999\n",
    "    image_path = \"shah.jpg\"\n",
    "\n",
    "    client_socket = socket.socket(socket.AF_INET, socket.SOCK_STREAM)\n",
    "    client_socket.connect((host, port))\n",
    "    print(f\"[*] Connected to {host}:{port}\")\n",
    "\n",
    "    send_image(client_socket, image_path)\n",
    "    colors = receive_colors(client_socket)\n",
    "    print(colors)\n",
    "    client_socket.close()\n",
    "\n",
    "if __name__ == \"__main__\":\n",
    "    main()\n"
   ]
  },
  {
   "cell_type": "code",
   "execution_count": null,
   "id": "636f3d01",
   "metadata": {},
   "outputs": [],
   "source": []
  }
 ],
 "metadata": {
  "kernelspec": {
   "display_name": "Python 3 (ipykernel)",
   "language": "python",
   "name": "python3"
  },
  "language_info": {
   "codemirror_mode": {
    "name": "ipython",
    "version": 3
   },
   "file_extension": ".py",
   "mimetype": "text/x-python",
   "name": "python",
   "nbconvert_exporter": "python",
   "pygments_lexer": "ipython3",
   "version": "3.9.13"
  }
 },
 "nbformat": 4,
 "nbformat_minor": 5
}
